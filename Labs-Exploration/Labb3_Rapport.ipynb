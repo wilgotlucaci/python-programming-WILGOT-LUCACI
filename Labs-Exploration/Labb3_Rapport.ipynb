{
 "cells": [
  {
   "cell_type": "markdown",
   "id": "83e75cd9",
   "metadata": {},
   "source": [
    "# Rapport Labb 3"
   ]
  },
  {
   "cell_type": "markdown",
   "id": "66f8834c",
   "metadata": {},
   "source": [
    "## Beskrivning"
   ]
  },
  {
   "cell_type": "markdown",
   "id": "49a1fa86",
   "metadata": {},
   "source": [
    "I denna rapport undersöks det hur koordinater i unlabelled_data.txt filen kan fördelas i python med hjälp av olika raka linjer."
   ]
  },
  {
   "cell_type": "markdown",
   "id": "844ce689",
   "metadata": {},
   "source": [
    "## Metod"
   ]
  },
  {
   "cell_type": "markdown",
   "id": "112409f3",
   "metadata": {},
   "source": [
    "Tanken med labb 3 var att med hjälp av python kunna identifiera och klassifiera olika koordinater från ulabelled_data.csv filen med hjälp av numpy och matplotlib. I labben krävdes uträkningar för att kunna klassifera och till detta var Numpy ett stort hjälpmedel. Samtidigt var det viktigt att få en visuell överblick på både hur de olika koordinaterna såg ut i en graf samtidigt som den linjära linjen visade hur klassifieringen gick till. Till visuleringen var matplotlib ett bra sätt att kunna genomföra detta. "
   ]
  },
  {
   "cell_type": "markdown",
   "id": "774fd430",
   "metadata": {},
   "source": [
    "## Utförande "
   ]
  },
  {
   "cell_type": "markdown",
   "id": "5cfa6326",
   "metadata": {},
   "source": [
    "Det första i många projekt är ett importera de biblotek som kommer att behövas för att kunna genomföra projektet. Här lägger jag även en filepath för både filen unlabelled_data.csv och filen labelled_data.csv.\n",
    "\n",
    "Genom filsöksvägen för filen unlabelled:data.csv använder jag np.genfromtxt och sätter filen till variabelnamnet \"data\". Filsöksvägen för labelled_data.csv sätts till varibelnamnet \"path\"."
   ]
  },
  {
   "cell_type": "code",
   "execution_count": null,
   "id": "2336f142",
   "metadata": {},
   "outputs": [],
   "source": [
    "import numpy as np\n",
    "import matplotlib as plt\n",
    "import os\n",
    "\n",
    "data = np.genfromtxt(\n",
    "    \"/Users/wilgotlucaci/Desktop/Labb3/unlabelled_data.csv\", \n",
    "    delimiter = \",\"\n",
    ")\n",
    "\n",
    "path = \"/Users/wilgotlucaci/python-programming-WILGOT-LUCACI/Labs-Exploration\""
   ]
  },
  {
   "cell_type": "markdown",
   "id": "bc9ed5f6",
   "metadata": {},
   "source": [
    "Efter detta sorterades x respektive y punkterna in i varsin lista."
   ]
  },
  {
   "cell_type": "code",
   "execution_count": null,
   "id": "69df8f43",
   "metadata": {},
   "outputs": [],
   "source": [
    "x = data[:, 0].astype(float)\n",
    "y = data[:, 1].astype(float)"
   ]
  },
  {
   "cell_type": "markdown",
   "id": "74dd63c5",
   "metadata": {},
   "source": [
    "Till en början tänkte jag lite fel, och tog det första x och y värdet och satte detta till x1, y1 och tog sedan det sista x och y värdet i listan x2,y2. Men i själva fallet var detta inte något medelvärde på hela listan då listan inte var sortead i storleksordning. Genom denna metod fick jag fram både en lutning och en skärningspunkt men som förmodligen inte var lika exakt.\n",
    "\n",
    "Istället användes np.polyfit(x, y, 1). Genom np.polyfit räknar den ut exakta lutning(hur mycket y ökar när x ökar med 1) och exakta skärningspunkt(vad y är när x = 0). \n",
    "\n",
    "Genom denna metod gick jag fram en linjär linje av grad 1."
   ]
  },
  {
   "cell_type": "code",
   "execution_count": null,
   "id": "017684f5",
   "metadata": {},
   "outputs": [],
   "source": [
    "#Detta var det som jag försökte med först.\n",
    "#x1, y1 = x[0], y[0]\n",
    "#x2, y2 = x[-1], y[-1]\n",
    "\n",
    "#k = (y2 - y1) / (x2 - x1)\n",
    "#m = y1 - k * x1\n",
    "\n",
    "# Detta var vad som användes.\n",
    "k, m = np.polyfit(x, y, 1)\n",
    "\n",
    "line_x = np.linspace(min(x), max(x), 100)\n",
    "line_y = k * line_x + m"
   ]
  },
  {
   "cell_type": "markdown",
   "id": "70395bb9",
   "metadata": {},
   "source": [
    "För klassifieringen skapades en funktion som tog en x och y punkt och returnerade om den var på, under eller ovanför den rätalinjen.\n",
    "\n",
    "Enkelt förklarat tar funktionen ett y-värde och jämför detta med y-värdet på den räta linjen. \n",
    "\n",
    "Listan classifications kör igenom alla x, y koordinater och sparar resultatet för varje punkt."
   ]
  },
  {
   "cell_type": "code",
   "execution_count": null,
   "id": "9ffd9e4e",
   "metadata": {},
   "outputs": [],
   "source": [
    "def classify(x_point, y_point):\n",
    "    y_line = k * x_point + m\n",
    "    if y_point > y_line:\n",
    "        return \"1\"\n",
    "    elif y_point < y_line:\n",
    "        return \"0\"\n",
    "    else:\n",
    "        return \"På linjen\"\n",
    "    \n",
    "classifications = [classify (x[i], y[i]) for i in range(len(x))]"
   ]
  },
  {
   "cell_type": "markdown",
   "id": "45a92079",
   "metadata": {},
   "source": [
    "Koden här använder sökvägen skapad i början av koden för att spara koordinaterna + deras klassifiering i den nya filen labelled_data.csv.\n",
    "Ett print meddelande skrivs ut."
   ]
  },
  {
   "cell_type": "code",
   "execution_count": null,
   "id": "c4ee7747",
   "metadata": {},
   "outputs": [],
   "source": [
    "labelleddata = os.path.join(path, \"labelled_data.csv\")\n",
    "with open(labelleddata, \"w\") as s:\n",
    "    for i in range (len(x)):\n",
    "        s.write(f\"({x[i]}, {y[i]}) --> {classifications[i]}\\n\")\n",
    "print(\"Writing labelled data to labelled_data.csv file\")\n"
   ]
  },
  {
   "cell_type": "markdown",
   "id": "3ee1eebb",
   "metadata": {},
   "source": [
    "Det var vid detta stadie det var dags att visa klassifierngen visuellet. Jag skrev ut de nya funktionerna och plotta dem."
   ]
  },
  {
   "cell_type": "code",
   "execution_count": null,
   "id": "8066b13b",
   "metadata": {},
   "outputs": [],
   "source": [
    "f_x = -0.489 * line_x\n",
    "g_x = -2 * line_x + 0.16\n",
    "h_x = 800 * line_x -120\n",
    "\n",
    "\n",
    "plt.figure(figsize=(8,5))\n",
    "plt.plot(line_x, line_y, linewidth= 3, label= \"Data\", color= \"r\")\n",
    "plt.scatter(x,y)\n",
    "plt.plot(line_x, f_x, label= \"f(x) = -0.489x\",linewidth= 3,color= \"b\")\n",
    "plt.plot(line_x, g_x, label= \"g(x) = -2x + 0.16\",linewidth= 3,color= \"m\")\n",
    "plt.plot(line_x, h_x, label= \"h(x) = 800x -120\", linewidth= 3,color= \"g\")\n",
    "plt.ylim(-10,10)\n",
    "plt.title(\"Linear classification\")\n",
    "plt.xlabel(\"X-axis\")\n",
    "plt.ylabel(\"Y-axis\")\n",
    "plt.legend()\n",
    "plt.grid(True, color= \"c\")\n",
    "plt.show() "
   ]
  },
  {
   "cell_type": "markdown",
   "id": "1a94e2d5",
   "metadata": {},
   "source": [
    "Vid detta stadie behövde jag klassifiera de nya linjerna men insåg att min funktion endast funkade för min egna linje. \n",
    "\n",
    "Jag ändrade istället om funktionen till detta:\n",
    "\n",
    "Genom att lägga till både lutning(k) och skärningspunkt(m) till funktionen så kan man inprincip använda vilken förstagradslinje som helst."
   ]
  },
  {
   "cell_type": "code",
   "execution_count": null,
   "id": "44369c68",
   "metadata": {},
   "outputs": [],
   "source": [
    "def classify(x_point, y_point, k, m):\n",
    "    y_line = k * x_point + m\n",
    "    if y_point > y_line:\n",
    "        return \"1\"\n",
    "    elif y_point < y_line:\n",
    "        return \"0\"\n",
    "    else:\n",
    "        return \"På linjen\"\n",
    "    \n",
    "classifications = [classify(xi, yi, k, m ) for xi, yi in zip(x,y)]\n",
    "f_classification = [classify(xi, yi, -0.489, 0) for xi, yi in zip(x,y)]\n",
    "g_classification = [classify(xi,yi, -2, 0.16) for xi, yi in zip(x, y)]\n",
    "h_classification = [classify(xi, yi, 800, -120) for xi, yi in zip(x, y)]"
   ]
  },
  {
   "cell_type": "markdown",
   "id": "74069986",
   "metadata": {},
   "source": [
    "# Resultat"
   ]
  },
  {
   "cell_type": "markdown",
   "id": "fec29e7d",
   "metadata": {},
   "source": [
    "Min linje som jag får fram genom att använda np.polyfit på datan anpassar sig till just datan även om den förändras. Min linje är alltså inte fördefinerad. I detta fall funkar det väldigt bra att använda en linje på detta sätt då alla punkter är ganska koncentrerade. I vissa kan det finnas så kallad outliers, punkter som ligger långt bort från andra. Vad jag tror då är att linejn skulle fungera sämre och inte fördela punkterna på ett jämt fördelat sätt.\n",
    "\n",
    "Kollar man istället på f(x), g(x), h(x) linjerna så är dessa fördefinerade. Genom detta vet man ju exakt lutning och skärningspunkt. Denna typ av klassifiering tar ju såklart ingen hänsyn till sjäva datan utan är vad den är. Detta kan ju leda till att alla punkter hamnar på en viss sida av linjen. \n",
    "\n",
    "Jag tror själv att beronde på vad man vill ha ut från klassiferingen så varierar det vilken metod av linje som är bäst. "
   ]
  },
  {
   "cell_type": "markdown",
   "id": "2138a83e",
   "metadata": {},
   "source": [
    "För att jämföra alla linjer kan man kolla vilken linje som fördelar 1 och 0 mest jämt.\n",
    "För denna del hade jag svårt att komma på hur detta är möligt och använde mig av chat-gpt 5.\n",
    "\n",
    "Chat-gpt 5 hjälpte mig att ta fram denna funktion som egentligen bara räknar antalet ettor och nollor för varje linje och subtraherar sedan dessa med varandra. Alltså är ett lägre tal alltid bättre i detta fall."
   ]
  },
  {
   "cell_type": "code",
   "execution_count": 14,
   "id": "585d21eb",
   "metadata": {},
   "outputs": [
    {
     "name": "stdout",
     "output_type": "stream",
     "text": [
      "Difference my line 20 points\n",
      "Difference f(x) line 2 points\n",
      "Difference g(x) line 2 points\n",
      "Difference f(x) line 4 points\n"
     ]
    }
   ],
   "source": [
    "def evaluate(class_list):\n",
    "    one = class_list.count(\"1\")\n",
    "    zero = class_list.count(\"0\")\n",
    "    return abs(one-zero)\n",
    "\n",
    "diff_my = evaluate(classifications)\n",
    "diff_f = evaluate(f_classification)\n",
    "diff_g = evaluate(g_classification)\n",
    "diff_h = evaluate(h_classification)\n",
    "\n",
    "print(\"Difference my line\", diff_my, \"points\")\n",
    "print(\"Difference f(x) line\", diff_f, \"points\")\n",
    "print(\"Difference g(x) line\", diff_g, \"points\")\n",
    "print(\"Difference f(x) line\", diff_h, \"points\")"
   ]
  },
  {
   "cell_type": "markdown",
   "id": "495e5c1e",
   "metadata": {},
   "source": [
    "I detta fall fördelade de andra linjerna bättre än min egna. Men det är viktigt att komma ihåg att om datan skulle förändras och alla punkter skulle vara negaiva tex, så skulle min linje anpassa sig och fortfarande fördela så jämt som möjligt. "
   ]
  }
 ],
 "metadata": {
  "kernelspec": {
   "display_name": ".venv",
   "language": "python",
   "name": "python3"
  },
  "language_info": {
   "codemirror_mode": {
    "name": "ipython",
    "version": 3
   },
   "file_extension": ".py",
   "mimetype": "text/x-python",
   "name": "python",
   "nbconvert_exporter": "python",
   "pygments_lexer": "ipython3",
   "version": "3.13.7"
  }
 },
 "nbformat": 4,
 "nbformat_minor": 5
}
